{
 "cells": [
  {
   "cell_type": "markdown",
   "id": "b451c932",
   "metadata": {
    "colab_type": "text",
    "id": "view-in-github"
   },
   "source": [
    "<a href=\"https://colab.research.google.com/github/fourfeatherz/DS2002F24/blob/main/Labs%5CUniversities_and_Stock_API_Workshop.ipynb\" target=\"_parent\"><img src=\"https://colab.research.google.com/assets/colab-badge.svg\" alt=\"Open In Colab\"/></a>"
   ]
  },
  {
   "cell_type": "markdown",
   "id": "YHwTFoDB04MH",
   "metadata": {
    "id": "YHwTFoDB04MH"
   },
   "source": [
    "# Using API Calls in Python with JSON and DataFrames - University Data Example\n",
    "In this notebook, we will make API requests to the Hipolabs Universities API, parse the JSON response, and convert it into Pandas DataFrames for analysis and visualization."
   ]
  },
  {
   "cell_type": "markdown",
   "id": "CDPNEdDF04MJ",
   "metadata": {
    "id": "CDPNEdDF04MJ"
   },
   "source": [
    "### Step 1: Making the API Call to Fetch University Data"
   ]
  },
  {
   "cell_type": "code",
   "execution_count": 1,
   "id": "pY6qqMVA04MJ",
   "metadata": {
    "id": "pY6qqMVA04MJ"
   },
   "outputs": [
    {
     "name": "stdout",
     "output_type": "stream",
     "text": [
      "API request successful!\n"
     ]
    }
   ],
   "source": [
    "import requests\n",
    "import json\n",
    "import pandas as pd\n",
    "\n",
    "# API endpoint for fetching universities\n",
    "url = \"http://universities.hipolabs.com/search?country=United%20States\"\n",
    "\n",
    "# Make the GET request\n",
    "response = requests.get(url)\n",
    "\n",
    "# Check the status code\n",
    "if response.status_code == 200:\n",
    "    print(\"API request successful!\")\n",
    "else:\n",
    "    print(f\"Failed to retrieve data: {response.status_code}\")"
   ]
  },
  {
   "cell_type": "markdown",
   "id": "N7564Ydt04MK",
   "metadata": {
    "id": "N7564Ydt04MK"
   },
   "source": [
    "### Step 2: Parsing the JSON Response"
   ]
  },
  {
   "cell_type": "code",
   "execution_count": 2,
   "id": "VnNhC0LN04MK",
   "metadata": {
    "id": "VnNhC0LN04MK"
   },
   "outputs": [
    {
     "name": "stdout",
     "output_type": "stream",
     "text": [
      "{\n",
      "  \"domains\": [\n",
      "    \"marywood.edu\"\n",
      "  ],\n",
      "  \"alpha_two_code\": \"US\",\n",
      "  \"web_pages\": [\n",
      "    \"http://www.marywood.edu\"\n",
      "  ],\n",
      "  \"name\": \"Marywood University\",\n",
      "  \"state-province\": null,\n",
      "  \"country\": \"United States\"\n",
      "}\n"
     ]
    }
   ],
   "source": [
    "# Parse the JSON response\n",
    "university_data = response.json()\n",
    "\n",
    "# Pretty-print the first university\n",
    "print(json.dumps(university_data[0], indent=2))"
   ]
  },
  {
   "cell_type": "markdown",
   "id": "LpvYuFhm04MK",
   "metadata": {
    "id": "LpvYuFhm04MK"
   },
   "source": [
    "### Step 3: Converting the JSON Data to a DataFrame"
   ]
  },
  {
   "cell_type": "code",
   "execution_count": 3,
   "id": "6TXNwd7L04MK",
   "metadata": {
    "id": "6TXNwd7L04MK"
   },
   "outputs": [
    {
     "name": "stdout",
     "output_type": "stream",
     "text": [
      "            domains alpha_two_code                     web_pages  \\\n",
      "0    [marywood.edu]             US     [http://www.marywood.edu]   \n",
      "1  [lindenwood.edu]             US  [http://www.lindenwood.edu/]   \n",
      "2    [sullivan.edu]             US       [https://sullivan.edu/]   \n",
      "3        [fscj.edu]             US       [https://www.fscj.edu/]   \n",
      "4      [xavier.edu]             US     [https://www.xavier.edu/]   \n",
      "\n",
      "                                    name state-province        country  \n",
      "0                    Marywood University           None  United States  \n",
      "1                  Lindenwood University           None  United States  \n",
      "2                    Sullivan University           None  United States  \n",
      "3  Florida State College at Jacksonville           None  United States  \n",
      "4                      Xavier University           None  United States  \n"
     ]
    },
    {
     "data": {
      "text/html": [
       "<div>\n",
       "<style scoped>\n",
       "    .dataframe tbody tr th:only-of-type {\n",
       "        vertical-align: middle;\n",
       "    }\n",
       "\n",
       "    .dataframe tbody tr th {\n",
       "        vertical-align: top;\n",
       "    }\n",
       "\n",
       "    .dataframe thead th {\n",
       "        text-align: right;\n",
       "    }\n",
       "</style>\n",
       "<table border=\"1\" class=\"dataframe\">\n",
       "  <thead>\n",
       "    <tr style=\"text-align: right;\">\n",
       "      <th></th>\n",
       "      <th>domains</th>\n",
       "      <th>alpha_two_code</th>\n",
       "      <th>web_pages</th>\n",
       "      <th>name</th>\n",
       "      <th>state-province</th>\n",
       "      <th>country</th>\n",
       "    </tr>\n",
       "  </thead>\n",
       "  <tbody>\n",
       "    <tr>\n",
       "      <th>0</th>\n",
       "      <td>[marywood.edu]</td>\n",
       "      <td>US</td>\n",
       "      <td>[http://www.marywood.edu]</td>\n",
       "      <td>Marywood University</td>\n",
       "      <td>None</td>\n",
       "      <td>United States</td>\n",
       "    </tr>\n",
       "    <tr>\n",
       "      <th>1</th>\n",
       "      <td>[lindenwood.edu]</td>\n",
       "      <td>US</td>\n",
       "      <td>[http://www.lindenwood.edu/]</td>\n",
       "      <td>Lindenwood University</td>\n",
       "      <td>None</td>\n",
       "      <td>United States</td>\n",
       "    </tr>\n",
       "    <tr>\n",
       "      <th>2</th>\n",
       "      <td>[sullivan.edu]</td>\n",
       "      <td>US</td>\n",
       "      <td>[https://sullivan.edu/]</td>\n",
       "      <td>Sullivan University</td>\n",
       "      <td>None</td>\n",
       "      <td>United States</td>\n",
       "    </tr>\n",
       "    <tr>\n",
       "      <th>3</th>\n",
       "      <td>[fscj.edu]</td>\n",
       "      <td>US</td>\n",
       "      <td>[https://www.fscj.edu/]</td>\n",
       "      <td>Florida State College at Jacksonville</td>\n",
       "      <td>None</td>\n",
       "      <td>United States</td>\n",
       "    </tr>\n",
       "    <tr>\n",
       "      <th>4</th>\n",
       "      <td>[xavier.edu]</td>\n",
       "      <td>US</td>\n",
       "      <td>[https://www.xavier.edu/]</td>\n",
       "      <td>Xavier University</td>\n",
       "      <td>None</td>\n",
       "      <td>United States</td>\n",
       "    </tr>\n",
       "    <tr>\n",
       "      <th>...</th>\n",
       "      <td>...</td>\n",
       "      <td>...</td>\n",
       "      <td>...</td>\n",
       "      <td>...</td>\n",
       "      <td>...</td>\n",
       "      <td>...</td>\n",
       "    </tr>\n",
       "    <tr>\n",
       "      <th>2329</th>\n",
       "      <td>[vermontlaw.edu]</td>\n",
       "      <td>US</td>\n",
       "      <td>[https://www.vermontlaw.edu/]</td>\n",
       "      <td>Vermont Law School</td>\n",
       "      <td>None</td>\n",
       "      <td>United States</td>\n",
       "    </tr>\n",
       "    <tr>\n",
       "      <th>2330</th>\n",
       "      <td>[wnc.edu]</td>\n",
       "      <td>US</td>\n",
       "      <td>[https://wnc.edu/]</td>\n",
       "      <td>Western Nevada College</td>\n",
       "      <td>None</td>\n",
       "      <td>United States</td>\n",
       "    </tr>\n",
       "    <tr>\n",
       "      <th>2331</th>\n",
       "      <td>[westernu.edu]</td>\n",
       "      <td>US</td>\n",
       "      <td>[https://www.westernu.edu/]</td>\n",
       "      <td>Western University of Health Sciences</td>\n",
       "      <td>None</td>\n",
       "      <td>United States</td>\n",
       "    </tr>\n",
       "    <tr>\n",
       "      <th>2332</th>\n",
       "      <td>[stmarytx.edu]</td>\n",
       "      <td>US</td>\n",
       "      <td>[https://www.stmarytx.edu/]</td>\n",
       "      <td>St. Mary's University</td>\n",
       "      <td>Texas</td>\n",
       "      <td>United States</td>\n",
       "    </tr>\n",
       "    <tr>\n",
       "      <th>2333</th>\n",
       "      <td>[southflorida.edu]</td>\n",
       "      <td>US</td>\n",
       "      <td>[https://www.southflorida.edu/]</td>\n",
       "      <td>South Florida State College</td>\n",
       "      <td>Florida</td>\n",
       "      <td>United States</td>\n",
       "    </tr>\n",
       "  </tbody>\n",
       "</table>\n",
       "<p>2334 rows × 6 columns</p>\n",
       "</div>"
      ],
      "text/plain": [
       "                 domains alpha_two_code                        web_pages  \\\n",
       "0         [marywood.edu]             US        [http://www.marywood.edu]   \n",
       "1       [lindenwood.edu]             US     [http://www.lindenwood.edu/]   \n",
       "2         [sullivan.edu]             US          [https://sullivan.edu/]   \n",
       "3             [fscj.edu]             US          [https://www.fscj.edu/]   \n",
       "4           [xavier.edu]             US        [https://www.xavier.edu/]   \n",
       "...                  ...            ...                              ...   \n",
       "2329    [vermontlaw.edu]             US    [https://www.vermontlaw.edu/]   \n",
       "2330           [wnc.edu]             US               [https://wnc.edu/]   \n",
       "2331      [westernu.edu]             US      [https://www.westernu.edu/]   \n",
       "2332      [stmarytx.edu]             US      [https://www.stmarytx.edu/]   \n",
       "2333  [southflorida.edu]             US  [https://www.southflorida.edu/]   \n",
       "\n",
       "                                       name state-province        country  \n",
       "0                       Marywood University           None  United States  \n",
       "1                     Lindenwood University           None  United States  \n",
       "2                       Sullivan University           None  United States  \n",
       "3     Florida State College at Jacksonville           None  United States  \n",
       "4                         Xavier University           None  United States  \n",
       "...                                     ...            ...            ...  \n",
       "2329                     Vermont Law School           None  United States  \n",
       "2330                 Western Nevada College           None  United States  \n",
       "2331  Western University of Health Sciences           None  United States  \n",
       "2332                  St. Mary's University          Texas  United States  \n",
       "2333            South Florida State College        Florida  United States  \n",
       "\n",
       "[2334 rows x 6 columns]"
      ]
     },
     "execution_count": 3,
     "metadata": {},
     "output_type": "execute_result"
    }
   ],
   "source": [
    "# Convert JSON data to a DataFrame\n",
    "df = pd.DataFrame(university_data)\n",
    "\n",
    "# Display the first few rows of the DataFrame\n",
    "print(df.head())\n",
    "df"
   ]
  },
  {
   "cell_type": "markdown",
   "id": "u_DHkVg004ML",
   "metadata": {
    "id": "u_DHkVg004ML"
   },
   "source": [
    "### Step 4: Basic Data Analysis"
   ]
  },
  {
   "cell_type": "code",
   "execution_count": 4,
   "id": "ovs5UIKs04ML",
   "metadata": {
    "id": "ovs5UIKs04ML"
   },
   "outputs": [
    {
     "name": "stdout",
     "output_type": "stream",
     "text": [
      "state-province\n",
      "Pennsylvania            31\n",
      "NY                       9\n",
      "California               5\n",
      "Texas                    5\n",
      "New York, NY             4\n",
      "New York                 3\n",
      "Florida                  3\n",
      "North Carolina           3\n",
      "Michigan                 3\n",
      "Ohio                     3\n",
      "Illinois                 2\n",
      "CA                       2\n",
      "Washington               2\n",
      "GA                       2\n",
      "TX                       2\n",
      "ND                       1\n",
      "Missouri                 1\n",
      "Maine                    1\n",
      "MA                       1\n",
      "Georgia                  1\n",
      "MI                       1\n",
      "New Hampshire            1\n",
      "Virginia                 1\n",
      "South Carolina           1\n",
      "IN                       1\n",
      "Colorado                 1\n",
      "Kansas                   1\n",
      "Indiana                  1\n",
      "VA                       1\n",
      "Iowa                     1\n",
      "NV                       1\n",
      "Utah                     1\n",
      "Salt Lake City, Utah     1\n",
      "Name: count, dtype: int64\n"
     ]
    }
   ],
   "source": [
    "# Count the number of universities by state\n",
    "state_counts = df['state-province'].value_counts()\n",
    "print(state_counts)"
   ]
  },
  {
   "cell_type": "markdown",
   "id": "cAPYEMN304ML",
   "metadata": {
    "id": "cAPYEMN304ML"
   },
   "source": [
    "### Step 5: Data Visualization"
   ]
  },
  {
   "cell_type": "code",
   "execution_count": 5,
   "id": "g7yUOl-804ML",
   "metadata": {
    "id": "g7yUOl-804ML"
   },
   "outputs": [
    {
     "data": {
      "image/png": "[encoded data removed]",
      "text/plain": [
       "<Figure size 720x432 with 1 Axes>"
      ]
     },
     "metadata": {
      "needs_background": "light"
     },
     "output_type": "display_data"
    }
   ],
   "source": [
    "import matplotlib.pyplot as plt\n",
    "\n",
    "# Plot the number of universities per state\n",
    "state_counts.plot(kind='bar', figsize=(10, 6))\n",
    "plt.title(\"Number of Universities per State\")\n",
    "plt.xlabel(\"State\")\n",
    "plt.ylabel(\"Number of Universities\")\n",
    "plt.show()"
   ]
  },
  {
   "cell_type": "markdown",
   "id": "WhSWvUWS04ML",
   "metadata": {
    "id": "WhSWvUWS04ML"
   },
   "source": [
    "### Step 6: Extending to Multiple Countries"
   ]
  },
  {
   "cell_type": "code",
   "execution_count": 6,
   "id": "ctTMYEJp04ML",
   "metadata": {
    "id": "ctTMYEJp04ML"
   },
   "outputs": [
    {
     "name": "stdout",
     "output_type": "stream",
     "text": [
      "            domains alpha_two_code                     web_pages  \\\n",
      "0    [marywood.edu]             US     [http://www.marywood.edu]   \n",
      "1  [lindenwood.edu]             US  [http://www.lindenwood.edu/]   \n",
      "2    [sullivan.edu]             US       [https://sullivan.edu/]   \n",
      "3        [fscj.edu]             US       [https://www.fscj.edu/]   \n",
      "4      [xavier.edu]             US     [https://www.xavier.edu/]   \n",
      "\n",
      "                                    name state-province        country  \n",
      "0                    Marywood University           None  United States  \n",
      "1                  Lindenwood University           None  United States  \n",
      "2                    Sullivan University           None  United States  \n",
      "3  Florida State College at Jacksonville           None  United States  \n",
      "4                      Xavier University           None  United States  \n"
     ]
    }
   ],
   "source": [
    "countries = [\"United States\", \"Canada\", \"Australia\", \"United Kingdom\"]\n",
    "university_list = []\n",
    "\n",
    "for country in countries:\n",
    "    response = requests.get(f\"http://universities.hipolabs.com/search?country={country}\")\n",
    "    data = response.json()\n",
    "\n",
    "    for uni in data:\n",
    "        uni['country'] = country\n",
    "        university_list.append(uni)\n",
    "\n",
    "# Convert to DataFrame\n",
    "df_universities = pd.DataFrame(university_list)\n",
    "\n",
    "# Display the first few rows\n",
    "print(df_universities.head())"
   ]
  },
  {
   "cell_type": "markdown",
   "id": "PIgW1_1p04ML",
   "metadata": {
    "id": "PIgW1_1p04ML"
   },
   "source": [
    "### Step 7: Visualizing University Counts by Country"
   ]
  },
  {
   "cell_type": "code",
   "execution_count": 7,
   "id": "TLQPcYvY04ML",
   "metadata": {
    "id": "TLQPcYvY04ML"
   },
   "outputs": [
    {
     "data": {
      "image/png": "[encoded data removed]",
      "text/plain": [
       "<Figure size 720x432 with 1 Axes>"
      ]
     },
     "metadata": {
      "needs_background": "light"
     },
     "output_type": "display_data"
    }
   ],
   "source": [
    "# Count the number of universities per country\n",
    "country_counts = df_universities['country'].value_counts()\n",
    "\n",
    "# Plot the data\n",
    "country_counts.plot(kind='bar', figsize=(10, 6))\n",
    "plt.title(\"Number of Universities per Country\")\n",
    "plt.xlabel(\"Country\")\n",
    "plt.ylabel(\"Number of Universities\")\n",
    "plt.show()"
   ]
  },
  {
   "cell_type": "markdown",
   "id": "b-dBnRNT1MQF",
   "metadata": {
    "id": "b-dBnRNT1MQF"
   },
   "source": [
    "###Step 8: Customizing the Workshop\n",
    "\n",
    "You can experiment further by:\n",
    "\n",
    "\n",
    "\n",
    "*   Fetching data for specific regions.\n",
    "*   Analyzing other attributes such as university domains.\n",
    "*   Creating visualizations to compare universities in different regions.\n",
    "\n"
   ]
  },
  {
   "cell_type": "code",
   "execution_count": 50,
   "id": "5a356cf4",
   "metadata": {},
   "outputs": [],
   "source": [
    "df_universities['domains'] = df_universities['domains'].astype(str)\n",
    "df_universities['domain_split'] = df_universities['domains'].str.split('.').str[-1]"
   ]
  },
  {
   "cell_type": "code",
   "execution_count": 51,
   "id": "2b4c240a",
   "metadata": {},
   "outputs": [],
   "source": [
    "domain_counts = df_universities['domain_split'].value_counts()"
   ]
  },
  {
   "cell_type": "code",
   "execution_count": 52,
   "id": "dcac75d3",
   "metadata": {},
   "outputs": [
    {
     "data": {
      "image/png": "[encoded data removed]",
      "text/plain": [
       "<Figure size 720x432 with 1 Axes>"
      ]
     },
     "metadata": {
      "needs_background": "light"
     },
     "output_type": "display_data"
    }
   ],
   "source": [
    "# Plot the data\n",
    "domain_counts.plot(kind='bar', figsize=(10, 6))\n",
    "plt.title(\"Number of Universities per Domain\")\n",
    "plt.xlabel(\"Domain\")\n",
    "plt.ylabel(\"Number of Universities\")\n",
    "plt.show()"
   ]
  },
  {
   "cell_type": "markdown",
   "id": "iwD_LJNy2L7u",
   "metadata": {
    "id": "iwD_LJNy2L7u"
   },
   "source": [
    "For the followig you will need to get your API key from  https://financeapi.net/\n",
    "Examine the demo page and sample data to be returned"
   ]
  },
  {
   "cell_type": "code",
   "execution_count": 8,
   "id": "80xOdsHQ2SzU",
   "metadata": {
    "id": "80xOdsHQ2SzU"
   },
   "outputs": [],
   "source": [
    "import json\n",
    "import pandas as pd\n",
    "import json\n",
    "import requests"
   ]
  },
  {
   "cell_type": "code",
   "execution_count": 9,
   "id": "qdoW9lbM2Wes",
   "metadata": {
    "id": "qdoW9lbM2Wes"
   },
   "outputs": [
    {
     "name": "stdout",
     "output_type": "stream",
     "text": [
      "AAPL\n"
     ]
    }
   ],
   "source": [
    "#get stock from the user\n",
    "stock=input()"
   ]
  },
  {
   "cell_type": "code",
   "execution_count": 10,
   "id": "Jb5ddkbl2YWF",
   "metadata": {
    "id": "Jb5ddkbl2YWF"
   },
   "outputs": [
    {
     "name": "stdout",
     "output_type": "stream",
     "text": [
      "The Stock we will research is:AAPL\n"
     ]
    }
   ],
   "source": [
    "print(\"The Stock we will research is:\" + stock)"
   ]
  },
  {
   "cell_type": "code",
   "execution_count": 11,
   "id": "pFKgjZlO2atU",
   "metadata": {
    "id": "pFKgjZlO2atU"
   },
   "outputs": [
    {
     "name": "stdout",
     "output_type": "stream",
     "text": [
      "{\"quoteResponse\":{\"result\":[{\"language\":\"en-US\",\"region\":\"US\",\"quoteType\":\"EQUITY\",\"typeDisp\":\"Equity\",\"quoteSourceName\":\"Nasdaq Real Time Price\",\"triggerable\":true,\"customPriceAlertConfidence\":\"HIGH\",\"currency\":\"USD\",\"fiftyTwoWeekLowChange\":67.649994,\"fiftyTwoWeekLowChangePercent\":0.41229883,\"fiftyTwoWeekRange\":\"164.08 - 237.23\",\"fiftyTwoWeekHighChange\":-5.5,\"fiftyTwoWeekHighChangePercent\":-0.023184253,\"fiftyTwoWeekLow\":164.08,\"fiftyTwoWeekHigh\":237.23,\"fiftyTwoWeekChangePercent\":31.102158,\"dividendDate\":1723680000,\"earningsTimestamp\":1722544200,\"earningsTimestampStart\":1730372340,\"earningsTimestampEnd\":1730721600,\"earningsCallTimestampStart\":1722546000,\"earningsCallTimestampEnd\":1722546000,\"isEarningsDateEstimate\":true,\"trailingAnnualDividendRate\":0.97,\"trailingPE\":35.324696,\"twoHundredDayAverageChangePercent\":0.17521435,\"dividendRate\":1.0,\"trailingAnnualDividendYield\":0.0042583086,\"dividendYield\":0.44,\"epsTrailingTwelveMonths\":6.56,\"epsForward\":7.48,\"epsCurrentYear\":6.7,\"priceEpsCurrentYear\":34.586567,\"sharesOutstanding\":15204100096,\"bookValue\":4.382,\"fiftyDayAverage\":222.0918,\"fiftyDayAverageChange\":9.638199,\"fiftyDayAverageChangePercent\":0.043397367,\"twoHundredDayAverage\":197.18105,\"twoHundredDayAverageChange\":34.54895,\"marketCap\":3523246030848,\"forwardPE\":30.979946,\"priceToBook\":52.882244,\"sourceInterval\":15,\"exchangeDataDelayedBy\":0,\"averageAnalystRating\":\"2.0 - Buy\",\"tradeable\":false,\"cryptoTradeable\":false,\"hasPrePostMarketData\":true,\"firstTradeDateMilliseconds\":345479400000,\"priceHint\":2,\"regularMarketChange\":3.9400024,\"regularMarketTime\":1727719307,\"regularMarketDayHigh\":232.5383,\"regularMarketDayRange\":\"229.655 - 232.5383\",\"regularMarketDayLow\":229.655,\"regularMarketVolume\":24171027,\"regularMarketPreviousClose\":227.79,\"bid\":231.71,\"ask\":231.78,\"bidSize\":1,\"askSize\":4,\"fullExchangeName\":\"NasdaqGS\",\"financialCurrency\":\"USD\",\"regularMarketOpen\":230.155,\"averageDailyVolume3Month\":54814806,\"averageDailyVolume10Day\":76087390,\"marketState\":\"REGULAR\",\"exchange\":\"NMS\",\"shortName\":\"Apple Inc.\",\"longName\":\"Apple Inc.\",\"messageBoardId\":\"finmb_24937\",\"exchangeTimezoneName\":\"America/New_York\",\"exchangeTimezoneShortName\":\"EDT\",\"gmtOffSetMilliseconds\":-14400000,\"market\":\"us_market\",\"esgPopulated\":false,\"regularMarketChangePercent\":1.7296644,\"regularMarketPrice\":231.73,\"displayName\":\"Apple\",\"symbol\":\"AAPL\"}],\"error\":null}}\n"
     ]
    }
   ],
   "source": [
    "apikey=\"key\"\n",
    "\n",
    "url = \"https://yfapi.net/v6/finance/quote\"\n",
    "\n",
    "querystring = {\"symbols\":stock}\n",
    "\n",
    "headers = {\n",
    "    'x-api-key': apikey\n",
    "    }\n",
    "\n",
    "response = requests.request(\"GET\", url, headers=headers, params=querystring)\n",
    "\n",
    "print(response.text)"
   ]
  },
  {
   "cell_type": "code",
   "execution_count": 12,
   "id": "SVJqBY7y2eSs",
   "metadata": {
    "id": "SVJqBY7y2eSs"
   },
   "outputs": [
    {
     "name": "stdout",
     "output_type": "stream",
     "text": [
      "Apple Inc. Price:$231.73\n"
     ]
    }
   ],
   "source": [
    "#print the company name and price\n",
    "stock_json = response.json()\n",
    "print(stock_json['quoteResponse']['result'][0][\"longName\"] + \" Price:$\" + str(stock_json['quoteResponse']['result'][0][\"regularMarketPrice\"]))"
   ]
  },
  {
   "cell_type": "markdown",
   "id": "9sqZZPI12leh",
   "metadata": {
    "id": "9sqZZPI12leh"
   },
   "source": [
    "Ask the user for a list of stocks and pass that answer back to the user\n"
   ]
  },
  {
   "cell_type": "code",
   "execution_count": 65,
   "id": "5bacc8ad",
   "metadata": {},
   "outputs": [
    {
     "name": "stdout",
     "output_type": "stream",
     "text": [
      "AMZN, AAPL\n"
     ]
    }
   ],
   "source": [
    "#get a list of stocks from the user\n",
    "stock_list = input()"
   ]
  },
  {
   "cell_type": "code",
   "execution_count": 66,
   "id": "dcbddbbc",
   "metadata": {},
   "outputs": [
    {
     "name": "stdout",
     "output_type": "stream",
     "text": [
      "The Stock we will research are: AMZN, AAPL\n"
     ]
    }
   ],
   "source": [
    "print(f\"The Stock we will research are: {stock_list[:]}\")"
   ]
  },
  {
   "cell_type": "code",
   "execution_count": 67,
   "id": "839bf2e0",
   "metadata": {},
   "outputs": [
    {
     "name": "stdout",
     "output_type": "stream",
     "text": [
      "Amazon.com, Inc. Price: $186.33\n"
     ]
    }
   ],
   "source": [
    "apikey=\"key\"\n",
    "\n",
    "url = \"https://yfapi.net/v6/finance/quote\"\n",
    "\n",
    "querystring = {\"symbols\":stock_list}\n",
    "\n",
    "headers = {\n",
    "    'x-api-key': apikey\n",
    "    }\n",
    "\n",
    "stock_json = response.json()\n",
    "\n",
    "response = requests.request(\"GET\", url, headers=headers, params=querystring)\n",
    "\n",
    "if stock_json['quoteResponse']['result']:\n",
    "    for each in stock_json['quoteResponse']['result']:\n",
    "        print(f\"{each['longName']} Price: ${each['regularMarketPrice']}\")\n",
    "else:\n",
    "    print(f\"This stock does not exist\")"
   ]
  }
 ],
 "metadata": {
  "colab": {
   "include_colab_link": true,
   "provenance": []
  },
  "kernelspec": {
   "display_name": "Python 3",
   "language": "python",
   "name": "python3"
  },
  "language_info": {
   "codemirror_mode": {
    "name": "ipython",
    "version": 3
   },
   "file_extension": ".py",
   "mimetype": "text/x-python",
   "name": "python",
   "nbconvert_exporter": "python",
   "pygments_lexer": "ipython3",
   "version": "3.8.8"
  }
 },
 "nbformat": 4,
 "nbformat_minor": 5
}
