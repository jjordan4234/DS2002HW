{
 "cells": [
  {
   "cell_type": "markdown",
   "id": "51d41d4c",
   "metadata": {},
   "source": [
    "# SQLite HQ Hw"
   ]
  },
  {
   "cell_type": "markdown",
   "id": "59d7f333",
   "metadata": {},
   "source": [
    "Load the necessary packages"
   ]
  },
  {
   "cell_type": "code",
   "execution_count": 1,
   "id": "2ea62980",
   "metadata": {},
   "outputs": [],
   "source": [
    "%load_ext sql"
   ]
  },
  {
   "cell_type": "code",
   "execution_count": 54,
   "id": "f1a7f3c3",
   "metadata": {},
   "outputs": [],
   "source": [
    "import sqlite3\n",
    "import pandas as pd\n",
    "import matplotlib.pyplot as plt"
   ]
  },
  {
   "cell_type": "markdown",
   "id": "32e8146e",
   "metadata": {},
   "source": [
    "***Create a database and connection***"
   ]
  },
  {
   "cell_type": "code",
   "execution_count": 3,
   "id": "c3db1244",
   "metadata": {},
   "outputs": [
    {
     "name": "stdout",
     "output_type": "stream",
     "text": [
      "Database created and connected!\n"
     ]
    }
   ],
   "source": [
    "# Connect to SQLite database (or create it if it doesn't exist)\n",
    "conn = sqlite3.connect('student_grades.db')\n",
    "\n",
    "#check if the connection was successful\n",
    "print(\"Database created and connected!\")"
   ]
  },
  {
   "cell_type": "markdown",
   "id": "f23954ec",
   "metadata": {},
   "source": [
    "***Create a cursor***"
   ]
  },
  {
   "cell_type": "code",
   "execution_count": 4,
   "id": "c8420b62",
   "metadata": {},
   "outputs": [
    {
     "name": "stdout",
     "output_type": "stream",
     "text": [
      "Cursor Created\n"
     ]
    }
   ],
   "source": [
    "# Create a cursor object to execute SQL queries\n",
    "cursor = conn.cursor()\n",
    "\n",
    "print(\"Cursor Created\")"
   ]
  },
  {
   "cell_type": "markdown",
   "id": "efa75973",
   "metadata": {},
   "source": [
    "***Create a students table***"
   ]
  },
  {
   "cell_type": "code",
   "execution_count": 12,
   "id": "f2b4c7de",
   "metadata": {},
   "outputs": [
    {
     "name": "stdout",
     "output_type": "stream",
     "text": [
      "Students table created\n"
     ]
    }
   ],
   "source": [
    "# Create the students table if it doesn't exist\n",
    "cursor.execute('''CREATE TABLE IF NOT EXISTS students \n",
    "(student_id INTEGER PRIMARY KEY,\n",
    "first_name TEXT,\n",
    "last_name TEXT)''')\n",
    "\n",
    "conn.commit()\n",
    "\n",
    "print(\"Students table created\")"
   ]
  },
  {
   "cell_type": "markdown",
   "id": "6dd5c580",
   "metadata": {},
   "source": [
    "***Insert data into the students table***"
   ]
  },
  {
   "cell_type": "code",
   "execution_count": 13,
   "id": "4a7410d4",
   "metadata": {},
   "outputs": [
    {
     "name": "stdout",
     "output_type": "stream",
     "text": [
      "Data inserted into the students table\n"
     ]
    }
   ],
   "source": [
    "students_data = [\n",
    "    (1, 'Alice', 'Johnson'), \n",
    "    (2, 'Bob', 'Smith'), \n",
    "    (3, 'Carol', 'White'), \n",
    "    (4, 'David', 'Brown'), \n",
    "    (5, 'Eve', 'Davis')]\n",
    "\n",
    "#insert data into the table\n",
    "cursor.executemany('''\n",
    "INSERT INTO students (student_id, first_name, last_name) VALUES(?, ?, ?)\n",
    "''', students_data)\n",
    "#commit the transation\n",
    "conn.commit()\n",
    "\n",
    "print(\"Data inserted into the students table\")"
   ]
  },
  {
   "cell_type": "markdown",
   "id": "4df27af1",
   "metadata": {},
   "source": [
    "***Create a grades table***"
   ]
  },
  {
   "cell_type": "code",
   "execution_count": 19,
   "id": "6fad1975",
   "metadata": {},
   "outputs": [
    {
     "name": "stdout",
     "output_type": "stream",
     "text": [
      "Grades table created\n"
     ]
    }
   ],
   "source": [
    "cursor.execute('''CREATE TABLE IF NOT EXISTS grades \n",
    "(grade_id INTEGER PRIMARY KEY,\n",
    "student_id INTEGER, subject TEXT,\n",
    "grade INTEGER,\n",
    "FOREIGN KEY (student_id) REFERENCES students(student_id))''')\n",
    "\n",
    "print(\"Grades table created\")"
   ]
  },
  {
   "cell_type": "markdown",
   "id": "028576c6",
   "metadata": {},
   "source": [
    "***Insert data into grades table***"
   ]
  },
  {
   "cell_type": "code",
   "execution_count": 20,
   "id": "2075c059",
   "metadata": {},
   "outputs": [
    {
     "name": "stdout",
     "output_type": "stream",
     "text": [
      "Data inserted into the students table\n"
     ]
    }
   ],
   "source": [
    "grades_data = [\n",
    "    (1, 'Math', '95'), \n",
    "    (1, 'English', '88'), \n",
    "    (1, 'History', '90'), \n",
    "    (2, 'Math', '82'),\n",
    "    (2, 'English', '76'),\n",
    "    (2, 'History', '85'),\n",
    "    (3, 'Math', '72'),\n",
    "    (3, 'English', '84'),\n",
    "    (3, 'History', '95'),\n",
    "    (4, 'Math', '86'),\n",
    "    (4, 'English', '71'),\n",
    "    (4, 'History', '89'),\n",
    "    (5, 'Math', '96'),\n",
    "    (5, 'English', '95'),\n",
    "    (5, 'History', '80')]\n",
    "\n",
    "#insert data into the table\n",
    "cursor.executemany('''\n",
    "INSERT INTO grades (student_id, subject, grade) VALUES(?, ?, ?)\n",
    "''', grades_data)\n",
    "\n",
    "#commit the transation\n",
    "conn.commit()\n",
    "\n",
    "print(\"Data inserted into the students table\")"
   ]
  },
  {
   "cell_type": "markdown",
   "id": "82f69c12",
   "metadata": {},
   "source": [
    "# Perform SQL queries"
   ]
  },
  {
   "cell_type": "markdown",
   "id": "75ecb169",
   "metadata": {},
   "source": [
    "***Question 1: Retrieve all students' names and their grades***"
   ]
  },
  {
   "cell_type": "code",
   "execution_count": 71,
   "id": "b9754934",
   "metadata": {},
   "outputs": [
    {
     "name": "stdout",
     "output_type": "stream",
     "text": [
      "All names and grades:\n",
      "('Alice', 'Johnson', 95)\n",
      "('Alice', 'Johnson', 88)\n",
      "('Alice', 'Johnson', 90)\n",
      "('Bob', 'Smith', 82)\n",
      "('Bob', 'Smith', 76)\n",
      "('Bob', 'Smith', 85)\n",
      "('Carol', 'White', 72)\n",
      "('Carol', 'White', 84)\n",
      "('Carol', 'White', 95)\n",
      "('David', 'Brown', 86)\n",
      "('David', 'Brown', 71)\n",
      "('David', 'Brown', 89)\n",
      "('Eve', 'Davis', 96)\n",
      "('Eve', 'Davis', 95)\n",
      "('Eve', 'Davis', 80)\n"
     ]
    }
   ],
   "source": [
    "cursor.execute(\"SELECT students.first_name, students.last_name, grades.grade FROM students JOIN grades ON students.student_id = grades.student_id \")\n",
    "rows = cursor.fetchall()\n",
    "\n",
    "# Print the results\n",
    "print(\"All names and grades:\")\n",
    "for row in rows:\n",
    "    print(row)"
   ]
  },
  {
   "cell_type": "markdown",
   "id": "9b2dd628",
   "metadata": {},
   "source": [
    "***Question 2: Find the average grade for each student***"
   ]
  },
  {
   "cell_type": "code",
   "execution_count": 72,
   "id": "dc5bbb63",
   "metadata": {},
   "outputs": [
    {
     "name": "stdout",
     "output_type": "stream",
     "text": [
      "Names and average grades:\n",
      "('Alice', 'Johnson', 91.0)\n",
      "('Bob', 'Smith', 81.0)\n",
      "('Carol', 'White', 83.66666666666667)\n",
      "('David', 'Brown', 82.0)\n",
      "('Eve', 'Davis', 90.33333333333333)\n"
     ]
    }
   ],
   "source": [
    "cursor.execute(\"SELECT students.first_name, students.last_name, AVG(grades.grade) AS average_grade FROM students JOIN grades ON students.student_id = grades.student_id GROUP BY students.first_name, students.last_name\")\n",
    "rows = cursor.fetchall()\n",
    "\n",
    "# Print the results\n",
    "print(\"Names and average grades:\")\n",
    "for row in rows:\n",
    "    print(row)"
   ]
  },
  {
   "cell_type": "markdown",
   "id": "970690d3",
   "metadata": {},
   "source": [
    "***Question 3: Find the student with the highest average grade***"
   ]
  },
  {
   "cell_type": "code",
   "execution_count": 73,
   "id": "4d9230ab",
   "metadata": {},
   "outputs": [
    {
     "name": "stdout",
     "output_type": "stream",
     "text": [
      "Student with the highest average grade: Alice Johnson\n"
     ]
    }
   ],
   "source": [
    "# Query for the student with the highest average grade\n",
    "cursor.execute('''\n",
    "SELECT students.first_name, students.last_name, AVG(grades.grade) AS average_grade FROM students\n",
    "JOIN grades ON students.student_id = grades.student_id\n",
    "GROUP BY students.first_name, students.last_name\n",
    "ORDER BY average_grade DESC\n",
    "LIMIT 1\n",
    "''')\n",
    "highest_avg_grade = cursor.fetchone()\n",
    "\n",
    "# Display the result\n",
    "print(f\"Student with the highest average grade: {highest_avg_grade[0]} {highest_avg_grade[1]}\")"
   ]
  },
  {
   "cell_type": "markdown",
   "id": "70d80e64",
   "metadata": {},
   "source": [
    "***Question 4: Find the average grade for the Math subject***"
   ]
  },
  {
   "cell_type": "code",
   "execution_count": 74,
   "id": "9f6c2977",
   "metadata": {},
   "outputs": [
    {
     "name": "stdout",
     "output_type": "stream",
     "text": [
      "The average math grade is: 86.2\n"
     ]
    }
   ],
   "source": [
    "# Query for the average grade for the subject, Math, across all subjects\n",
    "cursor.execute('''\n",
    "SELECT AVG(grades.grade) AS average_grade FROM students\n",
    "JOIN grades ON students.student_id = grades.student_id\n",
    "WHERE grades.subject LIKE 'Math'\n",
    "''')\n",
    "average_math_grade = cursor.fetchone()\n",
    "\n",
    "# Display the result\n",
    "print(f\"The average math grade is: {average_math_grade[0]}\")"
   ]
  },
  {
   "cell_type": "markdown",
   "id": "ad78923c",
   "metadata": {},
   "source": [
    "***Question 5: List all students who scored above 90 in any subject***"
   ]
  },
  {
   "cell_type": "code",
   "execution_count": 76,
   "id": "b00f55c7",
   "metadata": {},
   "outputs": [
    {
     "name": "stdout",
     "output_type": "stream",
     "text": [
      "All students who got a above a 90 in any subject:\n",
      "('Alice', 'Johnson', 95)\n",
      "('Carol', 'White', 95)\n",
      "('Eve', 'Davis', 96)\n"
     ]
    }
   ],
   "source": [
    "cursor.execute('''SELECT students.first_name, students.last_name, MAX(grades.grade) AS best_grade FROM students\n",
    "JOIN grades ON students.student_id = grades.student_id\n",
    "WHERE grades.grade > 90\n",
    "GROUP BY students.first_name, students.last_name''')\n",
    "rows = cursor.fetchall()\n",
    "\n",
    "# Print the results\n",
    "print(\"All students who got a above a 90 in any subject:\")\n",
    "for row in rows:\n",
    "    print(row)"
   ]
  },
  {
   "cell_type": "markdown",
   "id": "114d772b",
   "metadata": {},
   "source": [
    "# Use Pandas to join the tables"
   ]
  },
  {
   "cell_type": "markdown",
   "id": "0629e4af",
   "metadata": {},
   "source": [
    "Load the tables into pandas dataframes"
   ]
  },
  {
   "cell_type": "code",
   "execution_count": 50,
   "id": "140961c2",
   "metadata": {},
   "outputs": [
    {
     "data": {
      "text/html": [
       "<div>\n",
       "<style scoped>\n",
       "    .dataframe tbody tr th:only-of-type {\n",
       "        vertical-align: middle;\n",
       "    }\n",
       "\n",
       "    .dataframe tbody tr th {\n",
       "        vertical-align: top;\n",
       "    }\n",
       "\n",
       "    .dataframe thead th {\n",
       "        text-align: right;\n",
       "    }\n",
       "</style>\n",
       "<table border=\"1\" class=\"dataframe\">\n",
       "  <thead>\n",
       "    <tr style=\"text-align: right;\">\n",
       "      <th></th>\n",
       "      <th>student_id</th>\n",
       "      <th>first_name</th>\n",
       "      <th>last_name</th>\n",
       "    </tr>\n",
       "  </thead>\n",
       "  <tbody>\n",
       "    <tr>\n",
       "      <th>0</th>\n",
       "      <td>1</td>\n",
       "      <td>Alice</td>\n",
       "      <td>Johnson</td>\n",
       "    </tr>\n",
       "    <tr>\n",
       "      <th>1</th>\n",
       "      <td>2</td>\n",
       "      <td>Bob</td>\n",
       "      <td>Smith</td>\n",
       "    </tr>\n",
       "    <tr>\n",
       "      <th>2</th>\n",
       "      <td>3</td>\n",
       "      <td>Carol</td>\n",
       "      <td>White</td>\n",
       "    </tr>\n",
       "    <tr>\n",
       "      <th>3</th>\n",
       "      <td>4</td>\n",
       "      <td>David</td>\n",
       "      <td>Brown</td>\n",
       "    </tr>\n",
       "    <tr>\n",
       "      <th>4</th>\n",
       "      <td>5</td>\n",
       "      <td>Eve</td>\n",
       "      <td>Davis</td>\n",
       "    </tr>\n",
       "  </tbody>\n",
       "</table>\n",
       "</div>"
      ],
      "text/plain": [
       "   student_id first_name last_name\n",
       "0           1      Alice   Johnson\n",
       "1           2        Bob     Smith\n",
       "2           3      Carol     White\n",
       "3           4      David     Brown\n",
       "4           5        Eve     Davis"
      ]
     },
     "execution_count": 50,
     "metadata": {},
     "output_type": "execute_result"
    }
   ],
   "source": [
    "students = pd.read_sql_query('''\n",
    "SELECT * FROM students\n",
    "''', conn)\n",
    "students"
   ]
  },
  {
   "cell_type": "code",
   "execution_count": 51,
   "id": "639d3891",
   "metadata": {},
   "outputs": [
    {
     "data": {
      "text/html": [
       "<div>\n",
       "<style scoped>\n",
       "    .dataframe tbody tr th:only-of-type {\n",
       "        vertical-align: middle;\n",
       "    }\n",
       "\n",
       "    .dataframe tbody tr th {\n",
       "        vertical-align: top;\n",
       "    }\n",
       "\n",
       "    .dataframe thead th {\n",
       "        text-align: right;\n",
       "    }\n",
       "</style>\n",
       "<table border=\"1\" class=\"dataframe\">\n",
       "  <thead>\n",
       "    <tr style=\"text-align: right;\">\n",
       "      <th></th>\n",
       "      <th>grade_id</th>\n",
       "      <th>student_id</th>\n",
       "      <th>subject</th>\n",
       "      <th>grade</th>\n",
       "    </tr>\n",
       "  </thead>\n",
       "  <tbody>\n",
       "    <tr>\n",
       "      <th>0</th>\n",
       "      <td>1</td>\n",
       "      <td>1</td>\n",
       "      <td>Math</td>\n",
       "      <td>95</td>\n",
       "    </tr>\n",
       "    <tr>\n",
       "      <th>1</th>\n",
       "      <td>2</td>\n",
       "      <td>1</td>\n",
       "      <td>English</td>\n",
       "      <td>88</td>\n",
       "    </tr>\n",
       "    <tr>\n",
       "      <th>2</th>\n",
       "      <td>3</td>\n",
       "      <td>1</td>\n",
       "      <td>History</td>\n",
       "      <td>90</td>\n",
       "    </tr>\n",
       "    <tr>\n",
       "      <th>3</th>\n",
       "      <td>4</td>\n",
       "      <td>2</td>\n",
       "      <td>Math</td>\n",
       "      <td>82</td>\n",
       "    </tr>\n",
       "    <tr>\n",
       "      <th>4</th>\n",
       "      <td>5</td>\n",
       "      <td>2</td>\n",
       "      <td>English</td>\n",
       "      <td>76</td>\n",
       "    </tr>\n",
       "    <tr>\n",
       "      <th>5</th>\n",
       "      <td>6</td>\n",
       "      <td>2</td>\n",
       "      <td>History</td>\n",
       "      <td>85</td>\n",
       "    </tr>\n",
       "    <tr>\n",
       "      <th>6</th>\n",
       "      <td>7</td>\n",
       "      <td>3</td>\n",
       "      <td>Math</td>\n",
       "      <td>72</td>\n",
       "    </tr>\n",
       "    <tr>\n",
       "      <th>7</th>\n",
       "      <td>8</td>\n",
       "      <td>3</td>\n",
       "      <td>English</td>\n",
       "      <td>84</td>\n",
       "    </tr>\n",
       "    <tr>\n",
       "      <th>8</th>\n",
       "      <td>9</td>\n",
       "      <td>3</td>\n",
       "      <td>History</td>\n",
       "      <td>95</td>\n",
       "    </tr>\n",
       "    <tr>\n",
       "      <th>9</th>\n",
       "      <td>10</td>\n",
       "      <td>4</td>\n",
       "      <td>Math</td>\n",
       "      <td>86</td>\n",
       "    </tr>\n",
       "    <tr>\n",
       "      <th>10</th>\n",
       "      <td>11</td>\n",
       "      <td>4</td>\n",
       "      <td>English</td>\n",
       "      <td>71</td>\n",
       "    </tr>\n",
       "    <tr>\n",
       "      <th>11</th>\n",
       "      <td>12</td>\n",
       "      <td>4</td>\n",
       "      <td>History</td>\n",
       "      <td>89</td>\n",
       "    </tr>\n",
       "    <tr>\n",
       "      <th>12</th>\n",
       "      <td>13</td>\n",
       "      <td>5</td>\n",
       "      <td>Math</td>\n",
       "      <td>96</td>\n",
       "    </tr>\n",
       "    <tr>\n",
       "      <th>13</th>\n",
       "      <td>14</td>\n",
       "      <td>5</td>\n",
       "      <td>English</td>\n",
       "      <td>95</td>\n",
       "    </tr>\n",
       "    <tr>\n",
       "      <th>14</th>\n",
       "      <td>15</td>\n",
       "      <td>5</td>\n",
       "      <td>History</td>\n",
       "      <td>80</td>\n",
       "    </tr>\n",
       "  </tbody>\n",
       "</table>\n",
       "</div>"
      ],
      "text/plain": [
       "    grade_id  student_id  subject  grade\n",
       "0          1           1     Math     95\n",
       "1          2           1  English     88\n",
       "2          3           1  History     90\n",
       "3          4           2     Math     82\n",
       "4          5           2  English     76\n",
       "5          6           2  History     85\n",
       "6          7           3     Math     72\n",
       "7          8           3  English     84\n",
       "8          9           3  History     95\n",
       "9         10           4     Math     86\n",
       "10        11           4  English     71\n",
       "11        12           4  History     89\n",
       "12        13           5     Math     96\n",
       "13        14           5  English     95\n",
       "14        15           5  History     80"
      ]
     },
     "execution_count": 51,
     "metadata": {},
     "output_type": "execute_result"
    }
   ],
   "source": [
    "grades = pd.read_sql_query('''\n",
    "SELECT * FROM grades\n",
    "''', conn)\n",
    "grades"
   ]
  },
  {
   "cell_type": "markdown",
   "id": "563ce0da",
   "metadata": {},
   "source": [
    "Use JOIN Queries to combine into one dataframe"
   ]
  },
  {
   "cell_type": "code",
   "execution_count": 53,
   "id": "80889c9d",
   "metadata": {},
   "outputs": [
    {
     "data": {
      "text/html": [
       "<div>\n",
       "<style scoped>\n",
       "    .dataframe tbody tr th:only-of-type {\n",
       "        vertical-align: middle;\n",
       "    }\n",
       "\n",
       "    .dataframe tbody tr th {\n",
       "        vertical-align: top;\n",
       "    }\n",
       "\n",
       "    .dataframe thead th {\n",
       "        text-align: right;\n",
       "    }\n",
       "</style>\n",
       "<table border=\"1\" class=\"dataframe\">\n",
       "  <thead>\n",
       "    <tr style=\"text-align: right;\">\n",
       "      <th></th>\n",
       "      <th>first_name</th>\n",
       "      <th>last_name</th>\n",
       "      <th>subject</th>\n",
       "      <th>grade</th>\n",
       "    </tr>\n",
       "  </thead>\n",
       "  <tbody>\n",
       "    <tr>\n",
       "      <th>0</th>\n",
       "      <td>Alice</td>\n",
       "      <td>Johnson</td>\n",
       "      <td>Math</td>\n",
       "      <td>95</td>\n",
       "    </tr>\n",
       "    <tr>\n",
       "      <th>1</th>\n",
       "      <td>Alice</td>\n",
       "      <td>Johnson</td>\n",
       "      <td>English</td>\n",
       "      <td>88</td>\n",
       "    </tr>\n",
       "    <tr>\n",
       "      <th>2</th>\n",
       "      <td>Alice</td>\n",
       "      <td>Johnson</td>\n",
       "      <td>History</td>\n",
       "      <td>90</td>\n",
       "    </tr>\n",
       "    <tr>\n",
       "      <th>3</th>\n",
       "      <td>Bob</td>\n",
       "      <td>Smith</td>\n",
       "      <td>Math</td>\n",
       "      <td>82</td>\n",
       "    </tr>\n",
       "    <tr>\n",
       "      <th>4</th>\n",
       "      <td>Bob</td>\n",
       "      <td>Smith</td>\n",
       "      <td>English</td>\n",
       "      <td>76</td>\n",
       "    </tr>\n",
       "    <tr>\n",
       "      <th>5</th>\n",
       "      <td>Bob</td>\n",
       "      <td>Smith</td>\n",
       "      <td>History</td>\n",
       "      <td>85</td>\n",
       "    </tr>\n",
       "    <tr>\n",
       "      <th>6</th>\n",
       "      <td>Carol</td>\n",
       "      <td>White</td>\n",
       "      <td>Math</td>\n",
       "      <td>72</td>\n",
       "    </tr>\n",
       "    <tr>\n",
       "      <th>7</th>\n",
       "      <td>Carol</td>\n",
       "      <td>White</td>\n",
       "      <td>English</td>\n",
       "      <td>84</td>\n",
       "    </tr>\n",
       "    <tr>\n",
       "      <th>8</th>\n",
       "      <td>Carol</td>\n",
       "      <td>White</td>\n",
       "      <td>History</td>\n",
       "      <td>95</td>\n",
       "    </tr>\n",
       "    <tr>\n",
       "      <th>9</th>\n",
       "      <td>David</td>\n",
       "      <td>Brown</td>\n",
       "      <td>Math</td>\n",
       "      <td>86</td>\n",
       "    </tr>\n",
       "    <tr>\n",
       "      <th>10</th>\n",
       "      <td>David</td>\n",
       "      <td>Brown</td>\n",
       "      <td>English</td>\n",
       "      <td>71</td>\n",
       "    </tr>\n",
       "    <tr>\n",
       "      <th>11</th>\n",
       "      <td>David</td>\n",
       "      <td>Brown</td>\n",
       "      <td>History</td>\n",
       "      <td>89</td>\n",
       "    </tr>\n",
       "    <tr>\n",
       "      <th>12</th>\n",
       "      <td>Eve</td>\n",
       "      <td>Davis</td>\n",
       "      <td>Math</td>\n",
       "      <td>96</td>\n",
       "    </tr>\n",
       "    <tr>\n",
       "      <th>13</th>\n",
       "      <td>Eve</td>\n",
       "      <td>Davis</td>\n",
       "      <td>English</td>\n",
       "      <td>95</td>\n",
       "    </tr>\n",
       "    <tr>\n",
       "      <th>14</th>\n",
       "      <td>Eve</td>\n",
       "      <td>Davis</td>\n",
       "      <td>History</td>\n",
       "      <td>80</td>\n",
       "    </tr>\n",
       "  </tbody>\n",
       "</table>\n",
       "</div>"
      ],
      "text/plain": [
       "   first_name last_name  subject  grade\n",
       "0       Alice   Johnson     Math     95\n",
       "1       Alice   Johnson  English     88\n",
       "2       Alice   Johnson  History     90\n",
       "3         Bob     Smith     Math     82\n",
       "4         Bob     Smith  English     76\n",
       "5         Bob     Smith  History     85\n",
       "6       Carol     White     Math     72\n",
       "7       Carol     White  English     84\n",
       "8       Carol     White  History     95\n",
       "9       David     Brown     Math     86\n",
       "10      David     Brown  English     71\n",
       "11      David     Brown  History     89\n",
       "12        Eve     Davis     Math     96\n",
       "13        Eve     Davis  English     95\n",
       "14        Eve     Davis  History     80"
      ]
     },
     "execution_count": 53,
     "metadata": {},
     "output_type": "execute_result"
    }
   ],
   "source": [
    "students_grades = pd.read_sql_query('''\n",
    "SELECT students.first_name, students.last_name, grades.subject, grades.grade FROM students\n",
    "JOIN grades ON students.student_id = grades.student_id\n",
    "''', conn)\n",
    "students_grades"
   ]
  },
  {
   "cell_type": "markdown",
   "id": "28c00c15",
   "metadata": {},
   "source": [
    "***Question 1: Plot the average grades for each student***"
   ]
  },
  {
   "cell_type": "code",
   "execution_count": 56,
   "id": "47014dfd",
   "metadata": {},
   "outputs": [
    {
     "data": {
      "image/png": "[encoded data removed]",
      "text/plain": [
       "<Figure size 432x288 with 1 Axes>"
      ]
     },
     "metadata": {
      "needs_background": "light"
     },
     "output_type": "display_data"
    }
   ],
   "source": [
    "students_average_grade = pd.read_sql_query('''\n",
    "SELECT students.first_name, students.last_name, AVG(grades.grade) AS average_grade FROM students\n",
    "JOIN grades ON students.student_id = grades.student_id\n",
    "GROUP BY students.first_name, students.last_name\n",
    "''', conn)\n",
    "rows = students_average_grade.values.tolist()\n",
    "student_names = [f\"{row[0]} {row[1]}\" for row in rows]\n",
    "average_grades = [row[2] for row in rows]\n",
    "\n",
    "plt.scatter(student_names, average_grades)\n",
    "plt.xlabel('Student Name')\n",
    "plt.ylabel('Average Grade')\n",
    "plt.title('Average Grade for Each Student')\n",
    "plt.show()"
   ]
  },
  {
   "cell_type": "markdown",
   "id": "15d39227",
   "metadata": {},
   "source": [
    "***Question 2: Create a bar chart showing the average grade for each subject***"
   ]
  },
  {
   "cell_type": "code",
   "execution_count": 66,
   "id": "704f9766",
   "metadata": {},
   "outputs": [
    {
     "data": {
      "image/png": "[encoded data removed]",
      "text/plain": [
       "<Figure size 432x288 with 1 Axes>"
      ]
     },
     "metadata": {
      "needs_background": "light"
     },
     "output_type": "display_data"
    }
   ],
   "source": [
    "subject_average_grade = pd.read_sql_query('''\n",
    "SELECT subject, AVG(grade) AS average_grade FROM grades\n",
    "GROUP BY subject\n",
    "''', conn)\n",
    "rows = subject_average_grade.values.tolist()\n",
    "subject = [row[0] for row in rows]\n",
    "average_grades = [row[1] for row in rows]\n",
    "\n",
    "plt.bar(subject, average_grades)\n",
    "plt.xlabel('Subject')\n",
    "plt.ylabel('Average Grade')\n",
    "plt.title('Average Grade for Each Subject')\n",
    "plt.xticks(rotation=45, ha='right')\n",
    "plt.show()"
   ]
  },
  {
   "cell_type": "markdown",
   "id": "dddab533",
   "metadata": {},
   "source": [
    "# Bonus"
   ]
  },
  {
   "cell_type": "markdown",
   "id": "5df4346f",
   "metadata": {},
   "source": [
    "***Question 1: Implement a query that finds the student with the highest grade in each subject.***"
   ]
  },
  {
   "cell_type": "code",
   "execution_count": 68,
   "id": "c5740bc6",
   "metadata": {},
   "outputs": [
    {
     "data": {
      "text/html": [
       "<div>\n",
       "<style scoped>\n",
       "    .dataframe tbody tr th:only-of-type {\n",
       "        vertical-align: middle;\n",
       "    }\n",
       "\n",
       "    .dataframe tbody tr th {\n",
       "        vertical-align: top;\n",
       "    }\n",
       "\n",
       "    .dataframe thead th {\n",
       "        text-align: right;\n",
       "    }\n",
       "</style>\n",
       "<table border=\"1\" class=\"dataframe\">\n",
       "  <thead>\n",
       "    <tr style=\"text-align: right;\">\n",
       "      <th></th>\n",
       "      <th>first_name</th>\n",
       "      <th>last_name</th>\n",
       "      <th>subject</th>\n",
       "      <th>Best_Grade</th>\n",
       "    </tr>\n",
       "  </thead>\n",
       "  <tbody>\n",
       "    <tr>\n",
       "      <th>0</th>\n",
       "      <td>Eve</td>\n",
       "      <td>Davis</td>\n",
       "      <td>English</td>\n",
       "      <td>95</td>\n",
       "    </tr>\n",
       "    <tr>\n",
       "      <th>1</th>\n",
       "      <td>Carol</td>\n",
       "      <td>White</td>\n",
       "      <td>History</td>\n",
       "      <td>95</td>\n",
       "    </tr>\n",
       "    <tr>\n",
       "      <th>2</th>\n",
       "      <td>Eve</td>\n",
       "      <td>Davis</td>\n",
       "      <td>Math</td>\n",
       "      <td>96</td>\n",
       "    </tr>\n",
       "  </tbody>\n",
       "</table>\n",
       "</div>"
      ],
      "text/plain": [
       "  first_name last_name  subject  Best_Grade\n",
       "0        Eve     Davis  English          95\n",
       "1      Carol     White  History          95\n",
       "2        Eve     Davis     Math          96"
      ]
     },
     "execution_count": 68,
     "metadata": {},
     "output_type": "execute_result"
    }
   ],
   "source": [
    "best_by_subject = pd.read_sql_query('''\n",
    "SELECT students.first_name, students.last_name, grades.subject, MAX(grades.grade) AS Best_Grade FROM students\n",
    "JOIN grades ON students.student_id = grades.student_id\n",
    "GROUP BY grades.subject\n",
    "''', conn)\n",
    "best_by_subject"
   ]
  },
  {
   "cell_type": "markdown",
   "id": "7fc0d780",
   "metadata": {},
   "source": [
    "***Question 2: Visualize the results using a grouped bar chart***"
   ]
  },
  {
   "cell_type": "code",
   "execution_count": 69,
   "id": "091ae44f",
   "metadata": {},
   "outputs": [],
   "source": [
    "import seaborn as sns"
   ]
  },
  {
   "cell_type": "code",
   "execution_count": 70,
   "id": "97d66e86",
   "metadata": {},
   "outputs": [
    {
     "data": {
      "image/png": "[encoded data removed]",
      "text/plain": [
       "<Figure size 720x432 with 1 Axes>"
      ]
     },
     "metadata": {
      "needs_background": "light"
     },
     "output_type": "display_data"
    }
   ],
   "source": [
    "plt.figure(figsize=(10, 6))\n",
    "sns.barplot(x='subject', y='Best_Grade', hue='first_name', data=best_by_subject)\n",
    "\n",
    "plt.title('Best Grades by Subject and Student')\n",
    "plt.xlabel('Subject')\n",
    "plt.ylabel('Best Grade')\n",
    "plt.legend(title='Student')\n",
    "plt.show()"
   ]
  },
  {
   "cell_type": "markdown",
   "id": "9294bcb8",
   "metadata": {},
   "source": [
    "***Close Cursor***"
   ]
  },
  {
   "cell_type": "code",
   "execution_count": 77,
   "id": "1d8d4fed",
   "metadata": {},
   "outputs": [
    {
     "name": "stdout",
     "output_type": "stream",
     "text": [
      "Cursor closed!\n"
     ]
    }
   ],
   "source": [
    "# Close the cursor\n",
    "cursor.close()\n",
    "\n",
    "# Explanation\n",
    "print(\"Cursor closed!\")"
   ]
  }
 ],
 "metadata": {
  "kernelspec": {
   "display_name": "Python 3",
   "language": "python",
   "name": "python3"
  },
  "language_info": {
   "codemirror_mode": {
    "name": "ipython",
    "version": 3
   },
   "file_extension": ".py",
   "mimetype": "text/x-python",
   "name": "python",
   "nbconvert_exporter": "python",
   "pygments_lexer": "ipython3",
   "version": "3.8.8"
  }
 },
 "nbformat": 4,
 "nbformat_minor": 5
}
