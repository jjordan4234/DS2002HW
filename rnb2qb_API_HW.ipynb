{
 "cells": [
  {
   "cell_type": "code",
   "execution_count": 2,
   "id": "e6ec96c1",
   "metadata": {},
   "outputs": [],
   "source": [
    "import requests\n",
    "import pandas as pd"
   ]
  },
  {
   "cell_type": "code",
   "execution_count": 30,
   "id": "86e3f069",
   "metadata": {},
   "outputs": [],
   "source": [
    "# Yahoo Finance API Base URL (placeholder)\n",
    "API_url = \"https://yfapi.net/v6/finance/quote\"\n",
    "API_KEY = \"AyfoJDpQoV2poBrKduv4O3mZO1GKxl0P79P40zox\"  # You need to replace this with your actual API key"
   ]
  },
  {
   "cell_type": "code",
   "execution_count": 37,
   "id": "c4573dd3",
   "metadata": {},
   "outputs": [
    {
     "name": "stdout",
     "output_type": "stream",
     "text": [
      "AAPL\n"
     ]
    }
   ],
   "source": [
    "stock = input()"
   ]
  },
  {
   "cell_type": "code",
   "execution_count": 40,
   "id": "92532ae9",
   "metadata": {},
   "outputs": [
    {
     "name": "stdout",
     "output_type": "stream",
     "text": [
      "{\"quoteResponse\":{\"result\":[{\"language\":\"en-US\",\"region\":\"US\",\"quoteType\":\"EQUITY\",\"typeDisp\":\"Equity\",\"quoteSourceName\":\"Nasdaq Real Time Price\",\"triggerable\":true,\"customPriceAlertConfidence\":\"HIGH\",\"currency\":\"USD\",\"regularMarketChangePercent\":2.2871974,\"regularMarketPrice\":233.0,\"exchange\":\"NMS\",\"shortName\":\"Apple Inc.\",\"longName\":\"Apple Inc.\",\"messageBoardId\":\"finmb_24937\",\"exchangeTimezoneName\":\"America/New_York\",\"exchangeTimezoneShortName\":\"EDT\",\"gmtOffSetMilliseconds\":-14400000,\"market\":\"us_market\",\"esgPopulated\":false,\"postMarketPrice\":233.1,\"postMarketChange\":0.100098,\"regularMarketChange\":5.2100067,\"regularMarketTime\":1727726401,\"regularMarketDayHigh\":233.0,\"regularMarketDayRange\":\"229.655 - 233.0\",\"regularMarketDayLow\":229.655,\"regularMarketVolume\":52779736,\"regularMarketPreviousClose\":227.79,\"bid\":218.55,\"ask\":233.04,\"bidSize\":1,\"askSize\":8,\"fullExchangeName\":\"NasdaqGS\",\"financialCurrency\":\"USD\",\"regularMarketOpen\":230.155,\"averageDailyVolume3Month\":54722288,\"averageDailyVolume10Day\":75609080,\"fiftyTwoWeekLowChange\":68.92,\"fiftyTwoWeekLowChangePercent\":0.420039,\"fiftyTwoWeekRange\":\"164.08 - 237.23\",\"fiftyTwoWeekHighChange\":-4.2299957,\"fiftyTwoWeekHighChangePercent\":-0.01783078,\"fiftyTwoWeekLow\":164.08,\"fiftyTwoWeekHigh\":237.23,\"fiftyTwoWeekChangePercent\":35.150814,\"dividendDate\":1723680000,\"earningsTimestamp\":1722544200,\"earningsTimestampStart\":1730372340,\"earningsTimestampEnd\":1730721600,\"earningsCallTimestampStart\":1722546000,\"earningsCallTimestampEnd\":1722546000,\"isEarningsDateEstimate\":true,\"trailingAnnualDividendRate\":0.97,\"trailingPE\":34.724293,\"marketState\":\"POSTPOST\",\"dividendRate\":1.0,\"trailingAnnualDividendYield\":0.0042583086,\"dividendYield\":0.44,\"epsTrailingTwelveMonths\":6.71,\"epsForward\":7.48,\"epsCurrentYear\":6.7,\"priceEpsCurrentYear\":34.77612,\"sharesOutstanding\":15204100096,\"bookValue\":4.382,\"fiftyDayAverage\":222.2656,\"fiftyDayAverageChange\":10.7344055,\"fiftyDayAverageChangePercent\":0.048295397,\"twoHundredDayAverage\":197.3725,\"twoHundredDayAverageChange\":35.627502,\"twoHundredDayAverageChangePercent\":0.18050896,\"marketCap\":3542555295744,\"forwardPE\":31.149733,\"priceToBook\":53.17207,\"sourceInterval\":15,\"exchangeDataDelayedBy\":0,\"averageAnalystRating\":\"2.0 - Buy\",\"tradeable\":false,\"cryptoTradeable\":false,\"hasPrePostMarketData\":true,\"firstTradeDateMilliseconds\":345479400000,\"priceHint\":2,\"postMarketChangePercent\":0.0429604,\"postMarketTime\":1727740796,\"displayName\":\"Apple\",\"symbol\":\"AAPL\"}],\"error\":null}}\n"
     ]
    }
   ],
   "source": [
    "querystring_1 = {\"symbols\":stock}\n",
    "\n",
    "headers_1 = {\n",
    "    'x-api-key': API_KEY\n",
    "    }\n",
    "\n",
    "response_1 = requests.request(\"GET\", API_url, headers=headers_1, params=querystring_1)\n",
    "\n",
    "print(response.text)"
   ]
  },
  {
   "cell_type": "code",
   "execution_count": 45,
   "id": "e3ad4259",
   "metadata": {},
   "outputs": [
    {
     "name": "stdout",
     "output_type": "stream",
     "text": [
      "Symbol: AAPL\n",
      "Name: Apple Inc.\n",
      "Market Price: 233.0\n",
      "Fifty_Day_Avg: 222.2656\n",
      "Fifty_Two_Week_High: 237.23\n",
      "Fifty_Two_Week_Low: 164.08\n"
     ]
    }
   ],
   "source": [
    "#Company info\n",
    "stock_company_info_json = response_1.json()\n",
    "\n",
    "if stock_company_info_json['quoteResponse']['result']:\n",
    "    Symbol = \"Symbol: \" + str(stock_company_info_json['quoteResponse']['result'][0]['symbol'])\n",
    "    Name = \"Name: \" + str(stock_company_info_json['quoteResponse']['result'][0]['longName'])\n",
    "    Market_Price = \"Market Price: \" + str(stock_company_info_json['quoteResponse']['result'][0]['regularMarketPrice'])\n",
    "    Fifty_Day_Avg = \"Fifty_Day_Avg: \" + str(stock_company_info_json['quoteResponse']['result'][0]['fiftyDayAverage'])\n",
    "    Fifty_Two_Week_High = \"Fifty_Two_Week_High: \" + str(stock_company_info_json['quoteResponse']['result'][0]['fiftyTwoWeekHigh'])\n",
    "    Fifty_Two_Week_Low = \"Fifty_Two_Week_Low: \" + str(stock_company_info_json['quoteResponse']['result'][0]['fiftyTwoWeekLow'])\n",
    "    \n",
    "    print(Symbol)\n",
    "    print(Name)\n",
    "    print(Market_Price)\n",
    "    print(Fifty_Day_Avg)\n",
    "    print(Fifty_Two_Week_High)\n",
    "    print(Fifty_Two_Week_Low)\n",
    "    \n",
    "else:\n",
    "    print(\"This stock does not exist\")"
   ]
  },
  {
   "cell_type": "code",
   "execution_count": 73,
   "id": "3dbde7b2",
   "metadata": {},
   "outputs": [
    {
     "name": "stdout",
     "output_type": "stream",
     "text": [
      "\"US\"\n"
     ]
    }
   ],
   "source": [
    "region = input()"
   ]
  },
  {
   "cell_type": "code",
   "execution_count": 59,
   "id": "e58bcce2",
   "metadata": {},
   "outputs": [],
   "source": [
    "API_url_region = \"https://yfapi.net/v1/finance/trending/{region}\""
   ]
  },
  {
   "cell_type": "code",
   "execution_count": 74,
   "id": "502fdc2e",
   "metadata": {},
   "outputs": [
    {
     "name": "stdout",
     "output_type": "stream",
     "text": [
      "{\"quoteResponse\":{\"result\":[{\"language\":\"en-US\",\"region\":\"US\",\"quoteType\":\"EQUITY\",\"typeDisp\":\"Equity\",\"quoteSourceName\":\"Nasdaq Real Time Price\",\"triggerable\":true,\"customPriceAlertConfidence\":\"HIGH\",\"currency\":\"USD\",\"regularMarketChangePercent\":2.2871974,\"regularMarketPrice\":233.0,\"exchange\":\"NMS\",\"shortName\":\"Apple Inc.\",\"longName\":\"Apple Inc.\",\"messageBoardId\":\"finmb_24937\",\"exchangeTimezoneName\":\"America/New_York\",\"exchangeTimezoneShortName\":\"EDT\",\"gmtOffSetMilliseconds\":-14400000,\"market\":\"us_market\",\"esgPopulated\":false,\"postMarketPrice\":233.1,\"postMarketChange\":0.100098,\"regularMarketChange\":5.2100067,\"regularMarketTime\":1727726401,\"regularMarketDayHigh\":233.0,\"regularMarketDayRange\":\"229.655 - 233.0\",\"regularMarketDayLow\":229.655,\"regularMarketVolume\":52779736,\"regularMarketPreviousClose\":227.79,\"bid\":218.55,\"ask\":233.04,\"bidSize\":1,\"askSize\":8,\"fullExchangeName\":\"NasdaqGS\",\"financialCurrency\":\"USD\",\"regularMarketOpen\":230.155,\"averageDailyVolume3Month\":54722288,\"averageDailyVolume10Day\":75609080,\"fiftyTwoWeekLowChange\":68.92,\"fiftyTwoWeekLowChangePercent\":0.420039,\"fiftyTwoWeekRange\":\"164.08 - 237.23\",\"fiftyTwoWeekHighChange\":-4.2299957,\"fiftyTwoWeekHighChangePercent\":-0.01783078,\"fiftyTwoWeekLow\":164.08,\"fiftyTwoWeekHigh\":237.23,\"fiftyTwoWeekChangePercent\":35.150814,\"dividendDate\":1723680000,\"earningsTimestamp\":1722544200,\"earningsTimestampStart\":1730372340,\"earningsTimestampEnd\":1730721600,\"earningsCallTimestampStart\":1722546000,\"earningsCallTimestampEnd\":1722546000,\"isEarningsDateEstimate\":true,\"trailingAnnualDividendRate\":0.97,\"trailingPE\":34.724293,\"marketState\":\"POSTPOST\",\"dividendRate\":1.0,\"trailingAnnualDividendYield\":0.0042583086,\"dividendYield\":0.44,\"epsTrailingTwelveMonths\":6.71,\"epsForward\":7.48,\"epsCurrentYear\":6.7,\"priceEpsCurrentYear\":34.77612,\"sharesOutstanding\":15204100096,\"bookValue\":4.382,\"fiftyDayAverage\":222.2656,\"fiftyDayAverageChange\":10.7344055,\"fiftyDayAverageChangePercent\":0.048295397,\"twoHundredDayAverage\":197.3725,\"twoHundredDayAverageChange\":35.627502,\"twoHundredDayAverageChangePercent\":0.18050896,\"marketCap\":3542555295744,\"forwardPE\":31.149733,\"priceToBook\":53.17207,\"sourceInterval\":15,\"exchangeDataDelayedBy\":0,\"averageAnalystRating\":\"2.0 - Buy\",\"tradeable\":false,\"cryptoTradeable\":false,\"hasPrePostMarketData\":true,\"firstTradeDateMilliseconds\":345479400000,\"priceHint\":2,\"postMarketChangePercent\":0.0429604,\"postMarketTime\":1727740796,\"displayName\":\"Apple\",\"symbol\":\"AAPL\"}],\"error\":null}}\n"
     ]
    }
   ],
   "source": [
    "querystring_2 = {\"region\":region}\n",
    "\n",
    "headers_2 = {\n",
    "    'x-api-key': API_KEY\n",
    "    }\n",
    "\n",
    "response_2 = requests.request(\"GET\", API_url_region, headers=headers_2, params=querystring_2)\n",
    "\n",
    "print(response.text)"
   ]
  },
  {
   "cell_type": "code",
   "execution_count": 75,
   "id": "e2841ed7",
   "metadata": {},
   "outputs": [],
   "source": [
    "region_json = response_2.json()"
   ]
  },
  {
   "cell_type": "code",
   "execution_count": 76,
   "id": "029d315a",
   "metadata": {},
   "outputs": [
    {
     "name": "stdout",
     "output_type": "stream",
     "text": [
      "Full Response: {\n",
      "  \"finance\": {\n",
      "    \"result\": [],\n",
      "    \"error\": null\n",
      "  }\n",
      "}\n"
     ]
    }
   ],
   "source": [
    "# Print the entire JSON response for debugging\n",
    "print(\"Full Response:\", json.dumps(region_json, indent=2))"
   ]
  },
  {
   "cell_type": "code",
   "execution_count": 64,
   "id": "9a6c4770",
   "metadata": {},
   "outputs": [
    {
     "name": "stdout",
     "output_type": "stream",
     "text": [
      "No trending companies found\n"
     ]
    }
   ],
   "source": [
    "# Check if there are results in the response\n",
    "if 'quoteResponse' in region_json and region_json['quoteResponse']['result']:\n",
    "    trending_companies = region_json['quoteResponse']['result']\n",
    "\n",
    "    # Extract top 5 trending companies\n",
    "    top_5_companies = trending_companies[:5]  # Use slicing to get top 5\n",
    "\n",
    "    # Print information for the top 5 companies\n",
    "    for company in top_5_companies:\n",
    "        symbol = company.get(\"symbol\", \"N/A\")\n",
    "        name = company.get(\"longName\", \"N/A\")\n",
    "        market_price = company.get(\"regularMarketPrice\", \"N/A\")\n",
    "        print(f\"Symbol: {symbol}, Name: {name}, Market Price: {market_price}\")\n",
    "else:\n",
    "    print(\"No trending companies found\")\n",
    "    \n",
    "    \n",
    "#THE TRENDING COMPANIES PIECE WAS NOT WORKING FOR ME"
   ]
  },
  {
   "cell_type": "code",
   "execution_count": 77,
   "id": "e1cace80",
   "metadata": {},
   "outputs": [
    {
     "name": "stdout",
     "output_type": "stream",
     "text": [
      "         Symbol              Name         Market Price  \\\n",
      "0  Symbol: AAPL  Name: Apple Inc.  Market Price: 233.0   \n",
      "\n",
      "         Fifty Day Average                 52-Week High  \\\n",
      "0  Fifty_Day_Avg: 222.2656  Fifty_Two_Week_High: 237.23   \n",
      "\n",
      "                  52-Week Low  \n",
      "0  Fifty_Two_Week_Low: 164.08  \n"
     ]
    }
   ],
   "source": [
    "# Store results in dataframe and convert to csv:\n",
    "data = {\n",
    "    \"Symbol\": [Symbol],\n",
    "    \"Name\": [Name],\n",
    "    \"Market Price\": [Market_Price],\n",
    "    \"Fifty Day Average\": [Fifty_Day_Avg],\n",
    "    \"52-Week High\": [Fifty_Two_Week_High],\n",
    "    \"52-Week Low\": [Fifty_Two_Week_Low]\n",
    "}\n",
    "\n",
    "df = pd.DataFrame(data)\n",
    "df.to_csv(\"stock_data.csv\", index=False)\n",
    "print(df)"
   ]
  }
 ],
 "metadata": {
  "kernelspec": {
   "display_name": "Python 3",
   "language": "python",
   "name": "python3"
  },
  "language_info": {
   "codemirror_mode": {
    "name": "ipython",
    "version": 3
   },
   "file_extension": ".py",
   "mimetype": "text/x-python",
   "name": "python",
   "nbconvert_exporter": "python",
   "pygments_lexer": "ipython3",
   "version": "3.8.8"
  }
 },
 "nbformat": 4,
 "nbformat_minor": 5
}
